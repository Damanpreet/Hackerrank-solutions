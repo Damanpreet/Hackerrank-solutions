{
 "cells": [
  {
   "cell_type": "code",
   "execution_count": 130,
   "metadata": {},
   "outputs": [],
   "source": [
    "class BinaryHeap:\n",
    "    def __init__(self):\n",
    "        self.heapList = [0]\n",
    "        self.currentSize = 0\n",
    "    \n",
    "    def minChild(self, i):\n",
    "        if (i*2+1) > self.currentSize:\n",
    "            return i*2\n",
    "        if self.heapList[i*2+1] > self.heapList[i*2]:\n",
    "            return i*2\n",
    "        else:\n",
    "            return i*2+1     \n",
    "    \n",
    "    def adjustEle(self, i):\n",
    "        while (i*2 <= self.currentSize):\n",
    "            child = self.minChild(i)\n",
    "            if self.heapList[child] < self.heapList[i]:\n",
    "                self.heapList[child], self.heapList[i] = (self.heapList[i], self.heapList[child])\n",
    "            i = child\n",
    "            \n",
    "    def insertHeap(self, list):\n",
    "        self.currentSize = len(list) \n",
    "        i = self.currentSize // 2\n",
    "        self.heapList.extend(list)\n",
    "        while i > 0:\n",
    "            self.adjustEle(i)\n",
    "            print('i =',i,'  ',self.heapList)\n",
    "            i-=1\n",
    "            \n",
    "    def returnHeap(self):\n",
    "        print(self.heapList)\n",
    "        \n",
    "    def adjustInsertEle(self, i):\n",
    "        while i // 2 > 0:\n",
    "            if self.heapList[i] < self.heapList[i // 2]:\n",
    "                self.heapList[i], self.heapList[i // 2] = (self.heapList[i // 2], self.heapList[i])\n",
    "            i = i // 2\n",
    "        \n",
    "    def insertEleHeap(self, val):\n",
    "        self.currentSize += 1\n",
    "        self.heapList.append(val)\n",
    "        self.adjustInsertEle(self.currentSize)\n",
    "    \n",
    "    def deleteMin(self):\n",
    "        if len(self.heapList) > 1:\n",
    "            delEle = self.heapList[1]\n",
    "            self.heapList[1] = self.heapList[self.currentSize]\n",
    "            self.currentSize -= 1\n",
    "            self.heapList.pop() # removes the last element \n",
    "            self.adjustEle(1)\n",
    "            return delEle\n",
    "    \n",
    "    def sortedList(self):\n",
    "        sortedheapList = []\n",
    "        heapLst = []\n",
    "        cs = self.currentSize\n",
    "        heapLst.extend(self.heapList)\n",
    "        while self.currentSize > 0:\n",
    "            sortedheapList.append(self.heapList[1])\n",
    "            self.heapList[1] = self.heapList[self.currentSize]\n",
    "            self.currentSize -= 1\n",
    "            self.heapList.pop()\n",
    "            self.adjustEle(1)\n",
    "        self.currentSize = cs\n",
    "        self.heapList = heapLst\n",
    "        return sortedheapList"
   ]
  },
  {
   "cell_type": "code",
   "execution_count": 132,
   "metadata": {},
   "outputs": [
    {
     "name": "stdout",
     "output_type": "stream",
     "text": [
      "i = 2    [0, 9, 2, 6, 5, 3]\n",
      "i = 1    [0, 2, 3, 6, 5, 9]\n",
      "[0, 2, 3, 6, 5, 9]\n",
      "Inserting 1 to the heap\n",
      "[0, 1, 3, 2, 5, 9, 6]\n",
      "Sorted List:  [1, 2, 3, 5, 6, 9]\n",
      "1\n"
     ]
    }
   ],
   "source": [
    "b = BinaryHeap()\n",
    "b.insertHeap([9, 5, 6, 2, 3])\n",
    "b.returnHeap()\n",
    "\n",
    "print('Inserting 1 to the heap')\n",
    "b.insertEleHeap(1)\n",
    "b.returnHeap()\n",
    "\n",
    "print('Sorted List: ',b.sortedList())\n",
    "print(b.deleteMin())"
   ]
  }
 ],
 "metadata": {
  "kernelspec": {
   "display_name": "Python 3",
   "language": "python",
   "name": "python3"
  },
  "language_info": {
   "codemirror_mode": {
    "name": "ipython",
    "version": 3
   },
   "file_extension": ".py",
   "mimetype": "text/x-python",
   "name": "python",
   "nbconvert_exporter": "python",
   "pygments_lexer": "ipython3",
   "version": "3.7.1"
  }
 },
 "nbformat": 4,
 "nbformat_minor": 2
}
