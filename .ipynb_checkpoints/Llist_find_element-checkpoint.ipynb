{
 "cells": [
  {
   "cell_type": "code",
   "execution_count": 32,
   "metadata": {},
   "outputs": [],
   "source": [
    "#!/bin/python3\n",
    "\n",
    "import math\n",
    "import os\n",
    "import random\n",
    "import re\n",
    "import sys\n",
    "import time\n",
    "\n",
    "class SinglyLinkedListNode:\n",
    "    def __init__(self, node_data):\n",
    "        self.data = node_data\n",
    "        self.next = None\n",
    "\n",
    "class SinglyLinkedList:\n",
    "    def __init__(self):\n",
    "        self.head = None\n",
    "        self.tail = None\n",
    "\n",
    "    def insert_node(self, node_data):\n",
    "        node = SinglyLinkedListNode(node_data)\n",
    "\n",
    "        if not self.head:\n",
    "            self.head = node\n",
    "        else:\n",
    "            self.tail.next = node\n",
    "\n",
    "\n",
    "        self.tail = node\n",
    "\n",
    "\n",
    "def findLinkedList(head, element):\n",
    "    found = False\n",
    "    count = -1\n",
    "    while head is not None and found is False:\n",
    "        count += 1\n",
    "        if head.data == element:\n",
    "            found = True\n",
    "        head = head.next\n",
    "    \n",
    "    if found is False:\n",
    "        print('Element ', element,' is not found.')\n",
    "    else:\n",
    "        print('Element ', element,' found at location ', count+1,'.')\n",
    "\n",
    "def findLinkedListSorted(head, element):\n",
    "    count = -1\n",
    "    found = False\n",
    "    while head is not None and found is False:\n",
    "        count += 1\n",
    "        if head.data < element:\n",
    "            head = head.next\n",
    "        elif head.data == element:\n",
    "            found = True\n",
    "        else:\n",
    "            break\n",
    "            \n",
    "    if found is False:\n",
    "        print('Element ', element,' is not found.')\n",
    "    else:\n",
    "        print('Element ', element,' found at location ', count+1,'.')"
   ]
  },
  {
   "cell_type": "code",
   "execution_count": 46,
   "metadata": {},
   "outputs": [
    {
     "name": "stdout",
     "output_type": "stream",
     "text": [
      "Element  -8  is not found.\n",
      "0.0009984970092773438\n"
     ]
    }
   ],
   "source": [
    "if __name__ == '__main__':\n",
    "    llist_count = [1,2,8,4,5,6,7]\n",
    "\n",
    "    llist = SinglyLinkedList()\n",
    "\n",
    "    for i in range(len(llist_count)):\n",
    "        llist_item = llist_count[i]\n",
    "        llist.insert_node(llist_item)\n",
    "    \n",
    "    time_in = time.time()\n",
    "    findLinkedList(llist.head, -8)\n",
    "    print(time.time()-time_in)"
   ]
  },
  {
   "cell_type": "code",
   "execution_count": 58,
   "metadata": {},
   "outputs": [
    {
     "name": "stdout",
     "output_type": "stream",
     "text": [
      "Element  -8  is not found.\n",
      "0.0009944438934326172\n"
     ]
    }
   ],
   "source": [
    "if __name__ == '__main__':\n",
    "    llist_count = [1,2,3,4,5,6]\n",
    "\n",
    "    llist = SinglyLinkedList()\n",
    "\n",
    "    for i in range(len(llist_count)):\n",
    "        llist_item = llist_count[i]\n",
    "        llist.insert_node(llist_item)\n",
    "    \n",
    "    time_in = time.time()\n",
    "    findLinkedListSorted(llist.head, -8)\n",
    "    print(time.time()-time_in)"
   ]
  }
 ],
 "metadata": {
  "kernelspec": {
   "display_name": "Python 3",
   "language": "python",
   "name": "python3"
  },
  "language_info": {
   "codemirror_mode": {
    "name": "ipython",
    "version": 3
   },
   "file_extension": ".py",
   "mimetype": "text/x-python",
   "name": "python",
   "nbconvert_exporter": "python",
   "pygments_lexer": "ipython3",
   "version": "3.7.1"
  }
 },
 "nbformat": 4,
 "nbformat_minor": 2
}
